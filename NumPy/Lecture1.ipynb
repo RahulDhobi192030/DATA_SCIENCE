{
 "cells": [
  {
   "cell_type": "code",
   "execution_count": 2,
   "id": "937aae70",
   "metadata": {},
   "outputs": [
    {
     "name": "stdout",
     "output_type": "stream",
     "text": [
      "[10 20 30]\n"
     ]
    }
   ],
   "source": [
    "''' \n",
    "NumPy (short for Numerical Python) is a powerful Python library used for numerical and scientific computing. \n",
    "It provides support for large multi-dimensional arrays and matrices, along with a collection of mathematical\n",
    "functions to operate on these arrays efficiently.\n",
    "'''\n",
    "\n",
    "import numpy as np\n",
    "\n",
    "# Define list\n",
    "arr = [10,20,30]\n",
    "\n",
    "# Define numpy array : naar\n",
    "narr = np.array(arr)\n",
    "\n",
    "print(narr)"
   ]
  },
  {
   "cell_type": "code",
   "execution_count": 13,
   "id": "f5576bef",
   "metadata": {},
   "outputs": [
    {
     "name": "stdout",
     "output_type": "stream",
     "text": [
      "<class 'list'>\n",
      "<class 'numpy.ndarray'>\n",
      "(3, 3)\n"
     ]
    }
   ],
   "source": [
    "# Check the type of arr\n",
    "\n",
    "print(type(arr))\n",
    "\n",
    "print(type(narr))\n",
    "print(narr.shape)"
   ]
  },
  {
   "cell_type": "code",
   "execution_count": null,
   "id": "dbe9c050",
   "metadata": {},
   "outputs": [
    {
     "name": "stdout",
     "output_type": "stream",
     "text": [
      "1\n"
     ]
    }
   ],
   "source": [
    "# Checking Dimension of an numpy array\n",
    "print(narr.ndim)"
   ]
  },
  {
   "cell_type": "code",
   "execution_count": 12,
   "id": "621b90ac",
   "metadata": {},
   "outputs": [
    {
     "name": "stdout",
     "output_type": "stream",
     "text": [
      "<class 'numpy.ndarray'>\n",
      "2\n",
      "(3, 3)\n"
     ]
    }
   ],
   "source": [
    "# Create 2D array\n",
    "\n",
    "arr = [[10,20,30],[40,50,60],[70,80,90]]\n",
    "\n",
    "narr = np.array(arr)\n",
    "\n",
    "print(type(narr))\n",
    "print(narr.ndim)\n",
    "print(narr.shape)"
   ]
  },
  {
   "cell_type": "code",
   "execution_count": 11,
   "id": "3d9d7a8c",
   "metadata": {},
   "outputs": [
    {
     "name": "stdout",
     "output_type": "stream",
     "text": [
      "<class 'numpy.ndarray'>\n",
      "3\n",
      "(1, 3, 3)\n"
     ]
    },
    {
     "data": {
      "text/plain": [
       "array([[[10, 20, 30],\n",
       "        [40, 50, 60],\n",
       "        [70, 80, 90]]])"
      ]
     },
     "execution_count": 11,
     "metadata": {},
     "output_type": "execute_result"
    }
   ],
   "source": [
    "# Create 3D array\n",
    "\n",
    "\n",
    "arr = [[[10,20,30],[40,50,60],[70,80,90]]]\n",
    "\n",
    "narr = np.array(arr)\n",
    "\n",
    "print(type(narr))\n",
    "print(narr.ndim)\n",
    "print(narr.shape)\n",
    "narr"
   ]
  },
  {
   "cell_type": "code",
   "execution_count": 8,
   "id": "5de02266",
   "metadata": {},
   "outputs": [
    {
     "data": {
      "text/plain": [
       "array([[[[[1, 2, 3, 4, 5, 6]]]]])"
      ]
     },
     "execution_count": 8,
     "metadata": {},
     "output_type": "execute_result"
    }
   ],
   "source": [
    "# Create a new numpy array of high dimensional space\n",
    "\n",
    "arr = np.array([1,2,3,4,5,6], ndmin=5)\n",
    "arr"
   ]
  },
  {
   "cell_type": "code",
   "execution_count": 21,
   "id": "3c6e0cf8",
   "metadata": {},
   "outputs": [
    {
     "data": {
      "text/plain": [
       "array([[0, 1],\n",
       "       [2, 3],\n",
       "       [4, 5],\n",
       "       [6, 7],\n",
       "       [8, 9]])"
      ]
     },
     "execution_count": 21,
     "metadata": {},
     "output_type": "execute_result"
    }
   ],
   "source": [
    "''' \n",
    "Number of element present in array = 10\n",
    "reshape array to 5 rows and 2 columns\n",
    "'''\n",
    "\n",
    "array = np.array([0,1,2,3,4,5,6,7,8,9])\n",
    "array.reshape(5,2)"
   ]
  },
  {
   "cell_type": "code",
   "execution_count": 22,
   "id": "6bac9a49",
   "metadata": {},
   "outputs": [
    {
     "data": {
      "text/plain": [
       "(0, 9, 45)"
      ]
     },
     "execution_count": 22,
     "metadata": {},
     "output_type": "execute_result"
    }
   ],
   "source": [
    "array.min(),array.max(),array.sum()"
   ]
  },
  {
   "cell_type": "code",
   "execution_count": 23,
   "id": "651a0925",
   "metadata": {},
   "outputs": [
    {
     "data": {
      "text/plain": [
       "array([10, 20, 30, 40, 50, 60])"
      ]
     },
     "execution_count": 23,
     "metadata": {},
     "output_type": "execute_result"
    }
   ],
   "source": [
    "# Create Two Dimensional array and use Flatten\n",
    "# flatten() : Convert Multi dimensional array into One dimensional array\n",
    "\n",
    "array = np.array([[10,20],[30,40],[50,60]])\n",
    "array.flatten()"
   ]
  },
  {
   "cell_type": "code",
   "execution_count": 26,
   "id": "81d0e1d1",
   "metadata": {},
   "outputs": [
    {
     "name": "stdout",
     "output_type": "stream",
     "text": [
      "[[10, 20], [30, 40], [50, 60]]\n",
      "<class 'list'>\n"
     ]
    }
   ],
   "source": [
    "# tolist() : This will convert numpy array into list\n",
    "lst = array.tolist()\n",
    "print(lst)\n",
    "print(type(lst)) "
   ]
  },
  {
   "cell_type": "code",
   "execution_count": 30,
   "id": "ebac8dfa",
   "metadata": {},
   "outputs": [
    {
     "data": {
      "text/plain": [
       "array([[0., 0., 0.],\n",
       "       [0., 0., 0.],\n",
       "       [0., 0., 0.]])"
      ]
     },
     "execution_count": 30,
     "metadata": {},
     "output_type": "execute_result"
    }
   ],
   "source": [
    "# Create Zeros and Ones matrix\n",
    "z = np.zeros((3,3))\n",
    "z"
   ]
  },
  {
   "cell_type": "code",
   "execution_count": 33,
   "id": "3b62d6d3",
   "metadata": {},
   "outputs": [
    {
     "data": {
      "text/plain": [
       "array([[1., 1., 1.],\n",
       "       [1., 1., 1.],\n",
       "       [1., 1., 1.]])"
      ]
     },
     "execution_count": 33,
     "metadata": {},
     "output_type": "execute_result"
    }
   ],
   "source": [
    "o = np.ones((3,3))\n",
    "o"
   ]
  },
  {
   "cell_type": "code",
   "execution_count": 37,
   "id": "428a5c47",
   "metadata": {},
   "outputs": [
    {
     "data": {
      "text/plain": [
       "array([[1., 0., 0., 0.],\n",
       "       [0., 1., 0., 0.],\n",
       "       [0., 0., 1., 0.],\n",
       "       [0., 0., 0., 1.]])"
      ]
     },
     "execution_count": 37,
     "metadata": {},
     "output_type": "execute_result"
    }
   ],
   "source": [
    "e = np.eye(4)\n",
    "e"
   ]
  },
  {
   "cell_type": "code",
   "execution_count": null,
   "id": "59578132",
   "metadata": {},
   "outputs": [
    {
     "data": {
      "text/plain": [
       "array([ 0,  1,  2,  3,  4,  5,  6,  7,  8,  9, 10, 11, 12, 13, 14, 15, 16,\n",
       "       17, 18, 19])"
      ]
     },
     "execution_count": 39,
     "metadata": {},
     "output_type": "execute_result"
    }
   ],
   "source": [
    "# 20 : 5*4\n",
    "# Using arange function : np.arange(start,stop,step)\n",
    "array = np.arange(0,20)\n",
    "array"
   ]
  },
  {
   "cell_type": "code",
   "execution_count": 41,
   "id": "c2218f07",
   "metadata": {},
   "outputs": [
    {
     "name": "stdout",
     "output_type": "stream",
     "text": [
      "2\n"
     ]
    },
    {
     "data": {
      "text/plain": [
       "array([[ 0,  1,  2,  3],\n",
       "       [ 4,  5,  6,  7],\n",
       "       [ 8,  9, 10, 11],\n",
       "       [12, 13, 14, 15],\n",
       "       [16, 17, 18, 19]])"
      ]
     },
     "execution_count": 41,
     "metadata": {},
     "output_type": "execute_result"
    }
   ],
   "source": [
    "narray = array.reshape(5,4)\n",
    "print(narray.ndim)\n",
    "narray"
   ]
  },
  {
   "cell_type": "code",
   "execution_count": null,
   "id": "79671911",
   "metadata": {},
   "outputs": [
    {
     "data": {
      "text/plain": [
       "5.766281297335398"
      ]
     },
     "execution_count": 42,
     "metadata": {},
     "output_type": "execute_result"
    }
   ],
   "source": [
    "# Standerd deviation\n",
    "narray.std()"
   ]
  },
  {
   "cell_type": "code",
   "execution_count": null,
   "id": "ec94c9a0",
   "metadata": {},
   "outputs": [
    {
     "data": {
      "text/plain": [
       "33.25"
      ]
     },
     "execution_count": 43,
     "metadata": {},
     "output_type": "execute_result"
    }
   ],
   "source": [
    "# Varriance\n",
    "narray.var()"
   ]
  },
  {
   "cell_type": "code",
   "execution_count": 3,
   "id": "5b458225",
   "metadata": {},
   "outputs": [],
   "source": [
    "# Create two dimensional array having 6 rows and 5 coloumns\n",
    "\n",
    "array = np.array(np.arange(1,31))\n",
    "two_array = array.reshape(6,5)"
   ]
  },
  {
   "cell_type": "code",
   "execution_count": 4,
   "id": "296d9aa1",
   "metadata": {},
   "outputs": [
    {
     "data": {
      "text/plain": [
       "array([[ 1,  2,  3,  4,  5],\n",
       "       [ 6,  7,  8,  9, 10],\n",
       "       [11, 12, 13, 14, 15],\n",
       "       [16, 17, 18, 19, 20],\n",
       "       [21, 22, 23, 24, 25],\n",
       "       [26, 27, 28, 29, 30]])"
      ]
     },
     "execution_count": 4,
     "metadata": {},
     "output_type": "execute_result"
    }
   ],
   "source": [
    "two_array"
   ]
  },
  {
   "cell_type": "code",
   "execution_count": 5,
   "id": "e852bb2b",
   "metadata": {},
   "outputs": [
    {
     "data": {
      "text/plain": [
       "array([[ 7,  8,  9],\n",
       "       [12, 13, 14]])"
      ]
     },
     "execution_count": 5,
     "metadata": {},
     "output_type": "execute_result"
    }
   ],
   "source": [
    "# two_array[start_row:stop_row,start_colm:stop_colm]\n",
    "two_array[1:3,1:4]"
   ]
  },
  {
   "cell_type": "code",
   "execution_count": 6,
   "id": "98ecc7d5",
   "metadata": {},
   "outputs": [
    {
     "data": {
      "text/plain": [
       "array([[19, 20],\n",
       "       [24, 25],\n",
       "       [29, 30]])"
      ]
     },
     "execution_count": 6,
     "metadata": {},
     "output_type": "execute_result"
    }
   ],
   "source": [
    "two_array[3:,3:]"
   ]
  },
  {
   "cell_type": "code",
   "execution_count": 7,
   "id": "753a334e",
   "metadata": {},
   "outputs": [
    {
     "data": {
      "text/plain": [
       "array([[30]])"
      ]
     },
     "execution_count": 7,
     "metadata": {},
     "output_type": "execute_result"
    }
   ],
   "source": [
    "two_array[5:,-1:]"
   ]
  },
  {
   "cell_type": "code",
   "execution_count": 9,
   "id": "fb49193a",
   "metadata": {},
   "outputs": [
    {
     "data": {
      "text/plain": [
       "30"
      ]
     },
     "execution_count": 9,
     "metadata": {},
     "output_type": "execute_result"
    }
   ],
   "source": [
    "two_array[5:,-1:][0][0]"
   ]
  },
  {
   "cell_type": "code",
   "execution_count": null,
   "id": "ebaa4ed0",
   "metadata": {},
   "outputs": [],
   "source": []
  }
 ],
 "metadata": {
  "kernelspec": {
   "display_name": "base",
   "language": "python",
   "name": "python3"
  },
  "language_info": {
   "codemirror_mode": {
    "name": "ipython",
    "version": 3
   },
   "file_extension": ".py",
   "mimetype": "text/x-python",
   "name": "python",
   "nbconvert_exporter": "python",
   "pygments_lexer": "ipython3",
   "version": "3.12.7"
  }
 },
 "nbformat": 4,
 "nbformat_minor": 5
}
