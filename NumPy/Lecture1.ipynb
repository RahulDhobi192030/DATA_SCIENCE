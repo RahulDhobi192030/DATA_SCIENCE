{
 "cells": [
  {
   "cell_type": "code",
   "execution_count": null,
   "id": "937aae70",
   "metadata": {},
   "outputs": [
    {
     "name": "stdout",
     "output_type": "stream",
     "text": [
      "[10 20 30]\n"
     ]
    }
   ],
   "source": [
    "''' \n",
    "NumPy (short for Numerical Python) is a powerful Python library used for numerical and scientific computing. \n",
    "It provides support for large multi-dimensional arrays and matrices, along with a collection of mathematical\n",
    "functions to operate on these arrays efficiently.\n",
    "'''\n",
    "\n",
    "import numpy as np\n",
    "\n",
    "# Define list\n",
    "arr = [10,20,30]\n",
    "\n",
    "# Define numpy array : naar\n",
    "narr = np.array(arr)\n",
    "\n",
    "print(narr)"
   ]
  },
  {
   "cell_type": "code",
   "execution_count": 13,
   "id": "f5576bef",
   "metadata": {},
   "outputs": [
    {
     "name": "stdout",
     "output_type": "stream",
     "text": [
      "<class 'list'>\n",
      "<class 'numpy.ndarray'>\n",
      "(3, 3)\n"
     ]
    }
   ],
   "source": [
    "# Check the type of arr\n",
    "\n",
    "print(type(arr))\n",
    "\n",
    "print(type(narr))\n",
    "print(narr.shape)"
   ]
  },
  {
   "cell_type": "code",
   "execution_count": null,
   "id": "dbe9c050",
   "metadata": {},
   "outputs": [
    {
     "name": "stdout",
     "output_type": "stream",
     "text": [
      "1\n"
     ]
    }
   ],
   "source": [
    "# Checking Dimension of an numpy array\n",
    "print(narr.ndim)"
   ]
  },
  {
   "cell_type": "code",
   "execution_count": 12,
   "id": "621b90ac",
   "metadata": {},
   "outputs": [
    {
     "name": "stdout",
     "output_type": "stream",
     "text": [
      "<class 'numpy.ndarray'>\n",
      "2\n",
      "(3, 3)\n"
     ]
    }
   ],
   "source": [
    "# Create 2D array\n",
    "\n",
    "arr = [[10,20,30],[40,50,60],[70,80,90]]\n",
    "\n",
    "narr = np.array(arr)\n",
    "\n",
    "print(type(narr))\n",
    "print(narr.ndim)\n",
    "print(narr.shape)"
   ]
  },
  {
   "cell_type": "code",
   "execution_count": 11,
   "id": "3d9d7a8c",
   "metadata": {},
   "outputs": [
    {
     "name": "stdout",
     "output_type": "stream",
     "text": [
      "<class 'numpy.ndarray'>\n",
      "3\n",
      "(1, 3, 3)\n"
     ]
    },
    {
     "data": {
      "text/plain": [
       "array([[[10, 20, 30],\n",
       "        [40, 50, 60],\n",
       "        [70, 80, 90]]])"
      ]
     },
     "execution_count": 11,
     "metadata": {},
     "output_type": "execute_result"
    }
   ],
   "source": [
    "# Create 3D array\n",
    "\n",
    "\n",
    "arr = [[[10,20,30],[40,50,60],[70,80,90]]]\n",
    "\n",
    "narr = np.array(arr)\n",
    "\n",
    "print(type(narr))\n",
    "print(narr.ndim)\n",
    "print(narr.shape)\n",
    "narr"
   ]
  },
  {
   "cell_type": "code",
   "execution_count": null,
   "id": "5de02266",
   "metadata": {},
   "outputs": [],
   "source": []
  }
 ],
 "metadata": {
  "kernelspec": {
   "display_name": "base",
   "language": "python",
   "name": "python3"
  },
  "language_info": {
   "codemirror_mode": {
    "name": "ipython",
    "version": 3
   },
   "file_extension": ".py",
   "mimetype": "text/x-python",
   "name": "python",
   "nbconvert_exporter": "python",
   "pygments_lexer": "ipython3",
   "version": "3.12.7"
  }
 },
 "nbformat": 4,
 "nbformat_minor": 5
}
