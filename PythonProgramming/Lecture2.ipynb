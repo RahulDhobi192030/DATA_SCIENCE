{
 "cells": [
  {
   "cell_type": "code",
   "execution_count": null,
   "id": "82d6e047",
   "metadata": {},
   "outputs": [],
   "source": [
    "str = 'Hello World,Welcome to the world of Python Programming'"
   ]
  },
  {
   "cell_type": "code",
   "execution_count": 4,
   "id": "8d0779df",
   "metadata": {},
   "outputs": [
    {
     "name": "stdout",
     "output_type": "stream",
     "text": [
      " \n",
      "r\n",
      "m\n"
     ]
    }
   ],
   "source": [
    "# Concept of Indexing\n",
    "\n",
    "print(str[5])\n",
    "print(str[8])\n",
    "print(str[-4])"
   ]
  },
  {
   "cell_type": "code",
   "execution_count": 19,
   "id": "3bacbb6c",
   "metadata": {},
   "outputs": [
    {
     "name": "stdout",
     "output_type": "stream",
     "text": [
      "Hello World,Welcome to the world of Python Programming\n",
      "Hell\n",
      "am\n",
      "HloWrdWloet h ol fPto rgamn\n",
      "Hello World,Welcome to the world of Python Programming\n",
      "gnimmargorP nohtyP fo dlrow eht ot emocleW,dlroW olleH\n"
     ]
    }
   ],
   "source": [
    "# Concept of Slicing\n",
    "''' \n",
    "str[start:stop:step]\n",
    "'''\n",
    "print(str[:])\n",
    "print(str[:4])\n",
    "print(str[-6:-4])\n",
    "print(str[::2])\n",
    "print(str[::])\n",
    "print(str[::-1])"
   ]
  },
  {
   "cell_type": "code",
   "execution_count": 13,
   "id": "c6653a23",
   "metadata": {},
   "outputs": [
    {
     "name": "stdout",
     "output_type": "stream",
     "text": [
      "<class 'str'>\n"
     ]
    }
   ],
   "source": [
    "print(type(str))"
   ]
  },
  {
   "cell_type": "code",
   "execution_count": null,
   "id": "24547e37",
   "metadata": {},
   "outputs": [
    {
     "name": "stdout",
     "output_type": "stream",
     "text": [
      "HELLO WORLD\n",
      "hello world\n",
      "11\n"
     ]
    }
   ],
   "source": [
    "# Concept of Method\n",
    "\n",
    "string = 'Hello World'\n",
    "print(string.upper())\n",
    "print(string.lower())\n",
    "print(len(string))"
   ]
  },
  {
   "cell_type": "code",
   "execution_count": 21,
   "id": "23a7b37d",
   "metadata": {},
   "outputs": [
    {
     "name": "stdout",
     "output_type": "stream",
     "text": [
      "Idai ra o\n",
      "yr\n",
      "dir n\n"
     ]
    }
   ],
   "source": [
    "s= 'India is great country'\n",
    "print(s[:-5:2])\n",
    "print(s[:-3:-1])\n",
    "print(s[2:-2:4])"
   ]
  }
 ],
 "metadata": {
  "kernelspec": {
   "display_name": "base",
   "language": "python",
   "name": "python3"
  },
  "language_info": {
   "codemirror_mode": {
    "name": "ipython",
    "version": 3
   },
   "file_extension": ".py",
   "mimetype": "text/x-python",
   "name": "python",
   "nbconvert_exporter": "python",
   "pygments_lexer": "ipython3",
   "version": "3.12.7"
  }
 },
 "nbformat": 4,
 "nbformat_minor": 5
}
