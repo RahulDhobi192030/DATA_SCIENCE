{
 "cells": [
  {
   "cell_type": "code",
   "execution_count": 1,
   "id": "0ba7f65f",
   "metadata": {},
   "outputs": [],
   "source": [
    "# Tuple : Data Structure of Python Programming\n",
    "# Tuple is immutable whereas List is Mutable\n",
    "\n",
    "tup = () # Define tuple : tup()\n",
    "tup = (1,2,3,4,5,6,7,8)\n",
    "tup = ('Hii','Hello','Bye','Welcome')\n",
    "tup = (1.11,2.222,3.43434)\n",
    "tup = (True,False) \n"
   ]
  },
  {
   "cell_type": "code",
   "execution_count": null,
   "id": "5f7fb8f4",
   "metadata": {},
   "outputs": [],
   "source": [
    "tup = (10,20,30,2.121,4343.23232323,'Hello world',True,False)"
   ]
  },
  {
   "cell_type": "code",
   "execution_count": 11,
   "id": "b0767d01",
   "metadata": {},
   "outputs": [
    {
     "data": {
      "text/plain": [
       "1"
      ]
     },
     "execution_count": 11,
     "metadata": {},
     "output_type": "execute_result"
    }
   ],
   "source": [
    "tup.count(30)"
   ]
  },
  {
   "cell_type": "code",
   "execution_count": 12,
   "id": "d79cf5e4",
   "metadata": {},
   "outputs": [
    {
     "name": "stdout",
     "output_type": "stream",
     "text": [
      "[600, 700]\n"
     ]
    }
   ],
   "source": [
    "# Using Concept of Indexing and Slicing\n",
    "tup = (100,200,(300,400,[500,600,700,800],1,2,3),4,5)\n",
    "print(tup[2][2][1:3])"
   ]
  },
  {
   "cell_type": "code",
   "execution_count": 13,
   "id": "e75ffe5d",
   "metadata": {},
   "outputs": [
    {
     "name": "stdout",
     "output_type": "stream",
     "text": [
      "{'Country': ['India', 'Usa', 'Uk'], 'GDP': [9, 6, 8]}\n"
     ]
    }
   ],
   "source": [
    "# Dictionary : Data Structure of Python Programming\n",
    "# Dictionary is Mutable in \n",
    "''' \n",
    "dict = {'key':value}\n",
    "'''\n",
    "d = {'Country':['India','Usa','Uk'],\n",
    "     'GDP':[9,6,8]}\n",
    "print(d)\n"
   ]
  },
  {
   "cell_type": "code",
   "execution_count": 18,
   "id": "e0cb0968",
   "metadata": {},
   "outputs": [
    {
     "data": {
      "text/plain": [
       "['India', 'Usa', 'Uk']"
      ]
     },
     "execution_count": 18,
     "metadata": {},
     "output_type": "execute_result"
    }
   ],
   "source": [
    "# Using Concept of Indexing\n",
    "d['Country']"
   ]
  },
  {
   "cell_type": "code",
   "execution_count": 21,
   "id": "5b26d72c",
   "metadata": {},
   "outputs": [
    {
     "data": {
      "text/plain": [
       "'Usa'"
      ]
     },
     "execution_count": 21,
     "metadata": {},
     "output_type": "execute_result"
    }
   ],
   "source": [
    "d['Country'][1]"
   ]
  },
  {
   "cell_type": "code",
   "execution_count": 22,
   "id": "6e73f72a",
   "metadata": {},
   "outputs": [
    {
     "data": {
      "text/plain": [
       "8"
      ]
     },
     "execution_count": 22,
     "metadata": {},
     "output_type": "execute_result"
    }
   ],
   "source": [
    "d['GDP'][2]"
   ]
  },
  {
   "cell_type": "code",
   "execution_count": 23,
   "id": "378ff73f",
   "metadata": {},
   "outputs": [
    {
     "data": {
      "text/plain": [
       "[9, 6]"
      ]
     },
     "execution_count": 23,
     "metadata": {},
     "output_type": "execute_result"
    }
   ],
   "source": [
    "d['GDP'][:2]"
   ]
  },
  {
   "cell_type": "code",
   "execution_count": 24,
   "id": "c1c3f71b",
   "metadata": {},
   "outputs": [
    {
     "data": {
      "text/plain": [
       "dict_keys(['Country', 'GDP'])"
      ]
     },
     "execution_count": 24,
     "metadata": {},
     "output_type": "execute_result"
    }
   ],
   "source": [
    "d.keys()"
   ]
  },
  {
   "cell_type": "code",
   "execution_count": 25,
   "id": "fdbadbcf",
   "metadata": {},
   "outputs": [
    {
     "data": {
      "text/plain": [
       "dict_items([('Country', ['India', 'Usa', 'Uk']), ('GDP', [9, 6, 8])])"
      ]
     },
     "execution_count": 25,
     "metadata": {},
     "output_type": "execute_result"
    }
   ],
   "source": [
    "d.items()"
   ]
  },
  {
   "cell_type": "code",
   "execution_count": 26,
   "id": "c3f7cc29",
   "metadata": {},
   "outputs": [
    {
     "data": {
      "text/plain": [
       "dict_values([['India', 'Usa', 'Uk'], [9, 6, 8]])"
      ]
     },
     "execution_count": 26,
     "metadata": {},
     "output_type": "execute_result"
    }
   ],
   "source": [
    "d.values()"
   ]
  },
  {
   "cell_type": "code",
   "execution_count": 27,
   "id": "0e08d695",
   "metadata": {},
   "outputs": [
    {
     "data": {
      "text/plain": [
       "'Uk'"
      ]
     },
     "execution_count": 27,
     "metadata": {},
     "output_type": "execute_result"
    }
   ],
   "source": [
    "d['Country'].pop()\n"
   ]
  },
  {
   "cell_type": "code",
   "execution_count": 28,
   "id": "cebc354d",
   "metadata": {},
   "outputs": [
    {
     "name": "stdout",
     "output_type": "stream",
     "text": [
      "{'Country': ['India', 'Usa'], 'GDP': [9, 6, 8]}\n"
     ]
    }
   ],
   "source": [
    "print(d)"
   ]
  },
  {
   "cell_type": "code",
   "execution_count": 1,
   "id": "3f1de745",
   "metadata": {},
   "outputs": [
    {
     "name": "stdout",
     "output_type": "stream",
     "text": [
      "(1, 2, 3, 4, 5, 6, 7, 8)\n"
     ]
    }
   ],
   "source": [
    "tup1 = (1,2,3,4)\n",
    "tup2 = (5,6,7,8)\n",
    "print(tup1+tup2)"
   ]
  },
  {
   "cell_type": "code",
   "execution_count": 2,
   "id": "9d62cf72",
   "metadata": {},
   "outputs": [
    {
     "name": "stdout",
     "output_type": "stream",
     "text": [
      "(1, 2, 3, 4, 1, 2, 3, 4, 1, 2, 3, 4)\n"
     ]
    }
   ],
   "source": [
    "print(tup1*3)"
   ]
  },
  {
   "cell_type": "code",
   "execution_count": 4,
   "id": "1fdeeae2",
   "metadata": {},
   "outputs": [
    {
     "name": "stdout",
     "output_type": "stream",
     "text": [
      "0\n",
      "1\n",
      "2\n",
      "3\n",
      "4\n",
      "5\n",
      "6\n",
      "7\n",
      "8\n",
      "9\n"
     ]
    }
   ],
   "source": [
    "# Loops\n",
    "for i in range(0,10):\n",
    "    print(i)"
   ]
  },
  {
   "cell_type": "code",
   "execution_count": 7,
   "id": "c3d76be8",
   "metadata": {},
   "outputs": [
    {
     "name": "stdout",
     "output_type": "stream",
     "text": [
      "0 1 2 3 4 5 6 7 8 9 "
     ]
    }
   ],
   "source": [
    "for i in range(0,10):\n",
    "    print(i,end=\" \")"
   ]
  },
  {
   "cell_type": "code",
   "execution_count": 11,
   "id": "50d2c8f3",
   "metadata": {},
   "outputs": [
    {
     "name": "stdout",
     "output_type": "stream",
     "text": [
      "Num is greater the 200\n"
     ]
    }
   ],
   "source": [
    "# if else Logic\n",
    "num = 1000\n",
    "if num <=200:\n",
    "    print('Num is less then 200')\n",
    "else:\n",
    "    print('Num is greater the 200')"
   ]
  },
  {
   "cell_type": "code",
   "execution_count": 13,
   "id": "9c227b45",
   "metadata": {},
   "outputs": [
    {
     "name": "stdout",
     "output_type": "stream",
     "text": [
      "Student is Bright\n"
     ]
    }
   ],
   "source": [
    "marks = float(input('Enter the marks'))\n",
    "if marks >=60:\n",
    "    print('Student is Bright')\n",
    "else:\n",
    "    print('Student is weak')"
   ]
  },
  {
   "cell_type": "code",
   "execution_count": 20,
   "id": "85b67611",
   "metadata": {},
   "outputs": [
    {
     "name": "stdout",
     "output_type": "stream",
     "text": [
      "Bright Student\n"
     ]
    }
   ],
   "source": [
    "''' \n",
    "Step1 : Enter the marks from the user\n",
    "Step2 : Logic Building\n",
    "        80 >= Bright student\n",
    "        60 and 79 : Good Student\n",
    "        40 and 59 : Average Student\n",
    "        below 40 : Weak Student\n",
    "'''\n",
    "marks =float(input('Enter the marks'))\n",
    "if marks >=80:\n",
    "    print('Bright Student')\n",
    "elif marks >=60 and marks <=79 :\n",
    "    print('Good Student')\n",
    "elif marks >=40 and marks <=59 :\n",
    "    print('Average Student')\n",
    "elif marks <=40 :\n",
    "    print('Weak Student')"
   ]
  },
  {
   "cell_type": "code",
   "execution_count": 29,
   "id": "bb83bca5",
   "metadata": {},
   "outputs": [
    {
     "name": "stdout",
     "output_type": "stream",
     "text": [
      "The entered string is palimdrome\n"
     ]
    }
   ],
   "source": [
    "# print whether the given string is palimdrom or not\n",
    "''' \n",
    "Step1 = Input the sting from user\n",
    "Step2 = Logic building\n",
    "        string = Text\n",
    "'''\n",
    "string = input('Enter the String:')\n",
    "string1 = string[::-1]\n",
    "if string == string1:\n",
    "    print('The entered string is palimdrome')\n",
    "else:\n",
    "    print('The entered string is not palimdrome')"
   ]
  },
  {
   "cell_type": "code",
   "execution_count": 30,
   "id": "859b6270",
   "metadata": {},
   "outputs": [
    {
     "data": {
      "text/plain": [
       "215.0"
      ]
     },
     "execution_count": 30,
     "metadata": {},
     "output_type": "execute_result"
    }
   ],
   "source": [
    "# PEMDAS\n",
    "(100*2+(30/2))\n"
   ]
  },
  {
   "cell_type": "code",
   "execution_count": 31,
   "id": "38194659",
   "metadata": {},
   "outputs": [
    {
     "data": {
      "text/plain": [
       "215"
      ]
     },
     "execution_count": 31,
     "metadata": {},
     "output_type": "execute_result"
    }
   ],
   "source": [
    "(100*2+(30//2))"
   ]
  },
  {
   "cell_type": "code",
   "execution_count": 32,
   "id": "8bcaa321",
   "metadata": {},
   "outputs": [
    {
     "data": {
      "text/plain": [
       "400"
      ]
     },
     "execution_count": 32,
     "metadata": {},
     "output_type": "execute_result"
    }
   ],
   "source": [
    "20**2"
   ]
  },
  {
   "cell_type": "code",
   "execution_count": null,
   "id": "7f712171",
   "metadata": {},
   "outputs": [],
   "source": []
  }
 ],
 "metadata": {
  "kernelspec": {
   "display_name": "base",
   "language": "python",
   "name": "python3"
  },
  "language_info": {
   "codemirror_mode": {
    "name": "ipython",
    "version": 3
   },
   "file_extension": ".py",
   "mimetype": "text/x-python",
   "name": "python",
   "nbconvert_exporter": "python",
   "pygments_lexer": "ipython3",
   "version": "3.12.7"
  }
 },
 "nbformat": 4,
 "nbformat_minor": 5
}
