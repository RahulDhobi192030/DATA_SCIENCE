balance = 10000

def show_balance()
    global balance
    print(f'Your current balance is {balance}')

def withdraw_amount():
    global balance
    amount = float(input('Enter the amount to withdraw: '))
    if amount > balance:
        print('Insufficient funds')
    else:
        balance -= amount
        print(f'Withdraw amount is {amount}')
        print(f'Balance after withdrawal is {balance}')

def deposit_amount():
    global balance
    amount = float(input('Enter the amount to deposit: '))
    balance += amount
    print(f'Amount after deposit is {balance}')

def bank():
    global balance
    print("1: Show Balance\n2: Withdraw\n3: Deposit")
    choice = input('Enter the choice: ')
    if choice == '1':
        show_balance()
    elif choice == '2':
        withdraw_amount()
    elif choice == '3':
        deposit_amount()
    else:
        print('Invalid choice')

bank()
