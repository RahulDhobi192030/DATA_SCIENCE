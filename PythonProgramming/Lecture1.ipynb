{
 "cells": [
  {
   "cell_type": "markdown",
   "id": "133128e7",
   "metadata": {},
   "source": [
    "## INTRODUCTION"
   ]
  },
  {
   "cell_type": "code",
   "execution_count": 2,
   "id": "e8c49355",
   "metadata": {},
   "outputs": [],
   "source": [
    "# Data Types Used in Python Programming\n",
    "\n",
    "'''\n",
    "1. int : Integer\n",
    "2. float : Decimal values\n",
    "3. string : Text Information\n",
    "4. Boolean : True or False\n",
    "'''\n",
    "\n",
    "# Data Type Definition\n",
    "# = : Assignment Operator\n",
    "num = 100\n",
    "num1 = 100.345\n",
    "str = 'Hello world'\n",
    "boolean = True\n",
    "boolean = False\n"
   ]
  },
  {
   "cell_type": "code",
   "execution_count": 3,
   "id": "24514e89",
   "metadata": {},
   "outputs": [
    {
     "name": "stdout",
     "output_type": "stream",
     "text": [
      "100\n"
     ]
    }
   ],
   "source": [
    "print(num)"
   ]
  },
  {
   "cell_type": "code",
   "execution_count": 4,
   "id": "a89936a6",
   "metadata": {},
   "outputs": [
    {
     "name": "stdout",
     "output_type": "stream",
     "text": [
      "num\n"
     ]
    }
   ],
   "source": [
    "print('num')"
   ]
  },
  {
   "cell_type": "code",
   "execution_count": 5,
   "id": "76752517",
   "metadata": {},
   "outputs": [
    {
     "data": {
      "text/plain": [
       "200.345"
      ]
     },
     "execution_count": 5,
     "metadata": {},
     "output_type": "execute_result"
    }
   ],
   "source": [
    "num + num1"
   ]
  },
  {
   "cell_type": "code",
   "execution_count": null,
   "id": "8b2b7f0e",
   "metadata": {},
   "outputs": [
    {
     "name": "stdout",
     "output_type": "stream",
     "text": [
      "1234556789\n",
      "1234512345123451234512345\n"
     ]
    }
   ],
   "source": [
    "a = '12345'\n",
    "b = '56789'\n",
    "c = 5\n",
    "\n",
    "print(a+b)\n",
    "print(a*c)\n"
   ]
  },
  {
   "cell_type": "code",
   "execution_count": 9,
   "id": "41a71d1f",
   "metadata": {},
   "outputs": [
    {
     "name": "stdout",
     "output_type": "stream",
     "text": [
      "1020\n"
     ]
    }
   ],
   "source": [
    "# Inpute Function\n",
    "\n",
    "num1 = input('Enter the First Number:')\n",
    "num2 = input('Enter the Second Number:')\n",
    "\n",
    "print(num1 + num2)"
   ]
  },
  {
   "cell_type": "code",
   "execution_count": 12,
   "id": "87b22cba",
   "metadata": {},
   "outputs": [
    {
     "name": "stdout",
     "output_type": "stream",
     "text": [
      "30.0\n"
     ]
    }
   ],
   "source": [
    "# Inpute Function\n",
    "# Use TypeCasting : Converting String to Integer\n",
    "\n",
    "num1 = float(input('Enter the First Number:'))\n",
    "num2 = float(input('Enter the Second Number:'))\n",
    "\n",
    "print(num1 + num2)"
   ]
  },
  {
   "cell_type": "code",
   "execution_count": 1,
   "id": "e001b750",
   "metadata": {},
   "outputs": [
    {
     "ename": "ValueError",
     "evalue": "could not convert string to float: ''",
     "output_type": "error",
     "traceback": [
      "\u001b[1;31m---------------------------------------------------------------------------\u001b[0m",
      "\u001b[1;31mValueError\u001b[0m                                Traceback (most recent call last)",
      "Cell \u001b[1;32mIn[1], line 3\u001b[0m\n\u001b[0;32m      1\u001b[0m \u001b[38;5;66;03m# f string method\u001b[39;00m\n\u001b[0;32m      2\u001b[0m name \u001b[38;5;241m=\u001b[39m \u001b[38;5;28minput\u001b[39m(\u001b[38;5;124m'\u001b[39m\u001b[38;5;124mEnter the Name:\u001b[39m\u001b[38;5;124m'\u001b[39m)\n\u001b[1;32m----> 3\u001b[0m age \u001b[38;5;241m=\u001b[39m \u001b[38;5;28mfloat\u001b[39m(\u001b[38;5;28minput\u001b[39m(\u001b[38;5;124m'\u001b[39m\u001b[38;5;124mEnter the age:\u001b[39m\u001b[38;5;124m'\u001b[39m))\n\u001b[0;32m      5\u001b[0m \u001b[38;5;28mprint\u001b[39m(\u001b[38;5;124mf\u001b[39m\u001b[38;5;124m'\u001b[39m\u001b[38;5;124mThe Entered Name of the person is \u001b[39m\u001b[38;5;132;01m{\u001b[39;00mname\u001b[38;5;132;01m}\u001b[39;00m\u001b[38;5;124m having age is \u001b[39m\u001b[38;5;132;01m{\u001b[39;00mage\u001b[38;5;132;01m}\u001b[39;00m\u001b[38;5;124m'\u001b[39m)\n",
      "\u001b[1;31mValueError\u001b[0m: could not convert string to float: ''"
     ]
    }
   ],
   "source": [
    "# f string method\n",
    "name = input('Enter the Name:')\n",
    "age = float(input('Enter the age:'))\n",
    "\n",
    "print(f'The Entered Name of the person is {name} having age is {age}')"
   ]
  },
  {
   "cell_type": "code",
   "execution_count": 3,
   "id": "1c82dc63",
   "metadata": {},
   "outputs": [
    {
     "name": "stdout",
     "output_type": "stream",
     "text": [
      "The Multiplication of two numers are as 10.0 and 20.0 is 200.0\n",
      "The Multiplication of two numers are as 10.0 and 20.0 is 200.0\n"
     ]
    }
   ],
   "source": [
    "num1 = float(input('Enter the First number:'))\n",
    "num2 = float(input('Enter the Second number:'))\n",
    "\n",
    "num3 = num1 * num2\n",
    "\n",
    "print(f'The Multiplication of two numers are as {num1} and {num2} is',num3)\n",
    "print(f'The Multiplication of two numers are as {num1} and {num2} is {num3}')"
   ]
  }
 ],
 "metadata": {
  "kernelspec": {
   "display_name": "base",
   "language": "python",
   "name": "python3"
  },
  "language_info": {
   "codemirror_mode": {
    "name": "ipython",
    "version": 3
   },
   "file_extension": ".py",
   "mimetype": "text/x-python",
   "name": "python",
   "nbconvert_exporter": "python",
   "pygments_lexer": "ipython3",
   "version": "3.12.7"
  }
 },
 "nbformat": 4,
 "nbformat_minor": 5
}
