{
 "cells": [
  {
   "cell_type": "code",
   "execution_count": 4,
   "id": "89b80d09",
   "metadata": {},
   "outputs": [
    {
     "name": "stdout",
     "output_type": "stream",
     "text": [
      "0\n"
     ]
    }
   ],
   "source": [
    "for i in range(0,10):\n",
    "    print(i)\n",
    "    break"
   ]
  },
  {
   "cell_type": "code",
   "execution_count": 5,
   "id": "dc97bf16",
   "metadata": {},
   "outputs": [
    {
     "name": "stdout",
     "output_type": "stream",
     "text": [
      "1\n",
      "2\n",
      "3\n",
      "4\n",
      "5\n"
     ]
    }
   ],
   "source": [
    "for i in range(1,6):\n",
    "    print(i)\n",
    "    continue"
   ]
  },
  {
   "cell_type": "code",
   "execution_count": 6,
   "id": "afd8e6af",
   "metadata": {},
   "outputs": [
    {
     "name": "stdout",
     "output_type": "stream",
     "text": [
      "1\n",
      "2\n",
      "3\n",
      "4\n",
      "5\n"
     ]
    }
   ],
   "source": [
    "for i in range(1,6):\n",
    "    print(i)\n",
    "    pass"
   ]
  },
  {
   "cell_type": "code",
   "execution_count": 7,
   "id": "cb736f41",
   "metadata": {},
   "outputs": [
    {
     "name": "stdout",
     "output_type": "stream",
     "text": [
      "0\n",
      "1\n",
      "2\n",
      "3\n",
      "4\n",
      "1\n",
      "1\n",
      "2\n",
      "3\n",
      "4\n",
      "2\n",
      "1\n",
      "2\n",
      "3\n",
      "4\n",
      "3\n",
      "1\n",
      "2\n",
      "3\n",
      "4\n",
      "4\n",
      "1\n",
      "2\n",
      "3\n",
      "4\n",
      "5\n",
      "1\n",
      "2\n",
      "3\n",
      "4\n"
     ]
    }
   ],
   "source": [
    "for i in range(0,6):\n",
    "    pass\n",
    "    print(i)\n",
    "    for i in range(1,5):\n",
    "        print(i)\n",
    "        continue"
   ]
  },
  {
   "cell_type": "code",
   "execution_count": 9,
   "id": "eb8891ad",
   "metadata": {},
   "outputs": [
    {
     "name": "stdout",
     "output_type": "stream",
     "text": [
      "10\n"
     ]
    }
   ],
   "source": [
    "for i in range(10,15):\n",
    "    print(i)\n",
    "    break\n",
    "    for i in range(0,10,2):\n",
    "        print(i)\n",
    "        pass"
   ]
  },
  {
   "cell_type": "code",
   "execution_count": 10,
   "id": "fd7343c8",
   "metadata": {},
   "outputs": [
    {
     "name": "stdout",
     "output_type": "stream",
     "text": [
      "10\n",
      "0\n",
      "11\n",
      "0\n",
      "12\n",
      "0\n",
      "13\n",
      "0\n",
      "14\n",
      "0\n"
     ]
    }
   ],
   "source": [
    "for i in range(10,15):\n",
    "    print(i)\n",
    "    pass\n",
    "    for i in range(0,10,2):\n",
    "        print(i)\n",
    "        break"
   ]
  },
  {
   "cell_type": "code",
   "execution_count": 17,
   "id": "5f6c04c7",
   "metadata": {},
   "outputs": [],
   "source": [
    "count = 0\n",
    "while  i<10:\n",
    "    print(i)\n",
    "    i = i + 2"
   ]
  },
  {
   "cell_type": "code",
   "execution_count": 22,
   "id": "af447bb0",
   "metadata": {},
   "outputs": [
    {
     "name": "stdout",
     "output_type": "stream",
     "text": [
      "The Addition of two Numbers 100 and 300 is 400\n"
     ]
    }
   ],
   "source": [
    "# Function Defination\n",
    "\n",
    "# Function Defination: sum()\n",
    "def sum():\n",
    "\n",
    "    num1 = 100 # Local Variable : Attributes\n",
    "    num2 = 300 #Local Variables : Attributes\n",
    "    num3 = num1+num2\n",
    "    print(f'The Addition of two Numbers {num1} and {num2} is {num3}')\n",
    "\n",
    "#Function Calling\n",
    "sum()"
   ]
  },
  {
   "cell_type": "code",
   "execution_count": 23,
   "id": "56217dc7",
   "metadata": {},
   "outputs": [
    {
     "name": "stdout",
     "output_type": "stream",
     "text": [
      "The Addition of two Numbers 100 and 1000 is 1100\n"
     ]
    }
   ],
   "source": [
    "num4 = 1000 # Global Variable\n",
    "\n",
    "def sum():\n",
    "    global num4\n",
    "    num1 = 100 # Local Variable : Attributes\n",
    "    num2 = 300 #Local Variables : Attributes\n",
    "    num3 = num1+num4\n",
    "    print(f'The Addition of two Numbers {num1} and {num4} is {num3}')\n",
    "\n",
    "#Function Calling\n",
    "sum()"
   ]
  },
  {
   "cell_type": "code",
   "execution_count": 24,
   "id": "e7f2f6a6",
   "metadata": {},
   "outputs": [
    {
     "name": "stdout",
     "output_type": "stream",
     "text": [
      "30.0\n"
     ]
    }
   ],
   "source": [
    "# Define Global Variables num1 and num2\n",
    "num1 = float(input('Enter The First Number:'))\n",
    "num2 = float(input('Enter The Second Number:'))\n",
    "\n",
    "# Define sum function with arguments a & b\n",
    "def sum(a,b):\n",
    "    a+b\n",
    "    return(a+b)\n",
    "\n",
    "# Calling sum function and the returned value must be stored in variables 'ans'\n",
    "ans = sum(num1,num2)\n",
    "print(ans)\n"
   ]
  },
  {
   "cell_type": "code",
   "execution_count": null,
   "id": "b6de5380",
   "metadata": {},
   "outputs": [],
   "source": [
    "num=float(input('Enter the first no'))\n"
   ]
  }
 ],
 "metadata": {
  "kernelspec": {
   "display_name": "base",
   "language": "python",
   "name": "python3"
  },
  "language_info": {
   "codemirror_mode": {
    "name": "ipython",
    "version": 3
   },
   "file_extension": ".py",
   "mimetype": "text/x-python",
   "name": "python",
   "nbconvert_exporter": "python",
   "pygments_lexer": "ipython3",
   "version": "3.12.7"
  }
 },
 "nbformat": 4,
 "nbformat_minor": 5
}
