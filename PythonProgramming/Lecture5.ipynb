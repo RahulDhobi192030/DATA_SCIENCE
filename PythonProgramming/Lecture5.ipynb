{
 "cells": [
  {
   "cell_type": "code",
   "execution_count": 4,
   "id": "89b80d09",
   "metadata": {},
   "outputs": [
    {
     "name": "stdout",
     "output_type": "stream",
     "text": [
      "0\n"
     ]
    }
   ],
   "source": [
    "for i in range(0,10):\n",
    "    print(i)\n",
    "    break"
   ]
  },
  {
   "cell_type": "code",
   "execution_count": 5,
   "id": "dc97bf16",
   "metadata": {},
   "outputs": [
    {
     "name": "stdout",
     "output_type": "stream",
     "text": [
      "1\n",
      "2\n",
      "3\n",
      "4\n",
      "5\n"
     ]
    }
   ],
   "source": [
    "for i in range(1,6):\n",
    "    print(i)\n",
    "    continue"
   ]
  },
  {
   "cell_type": "code",
   "execution_count": 6,
   "id": "afd8e6af",
   "metadata": {},
   "outputs": [
    {
     "name": "stdout",
     "output_type": "stream",
     "text": [
      "1\n",
      "2\n",
      "3\n",
      "4\n",
      "5\n"
     ]
    }
   ],
   "source": [
    "for i in range(1,6):\n",
    "    print(i)\n",
    "    pass"
   ]
  },
  {
   "cell_type": "code",
   "execution_count": 7,
   "id": "cb736f41",
   "metadata": {},
   "outputs": [
    {
     "name": "stdout",
     "output_type": "stream",
     "text": [
      "0\n",
      "1\n",
      "2\n",
      "3\n",
      "4\n",
      "1\n",
      "1\n",
      "2\n",
      "3\n",
      "4\n",
      "2\n",
      "1\n",
      "2\n",
      "3\n",
      "4\n",
      "3\n",
      "1\n",
      "2\n",
      "3\n",
      "4\n",
      "4\n",
      "1\n",
      "2\n",
      "3\n",
      "4\n",
      "5\n",
      "1\n",
      "2\n",
      "3\n",
      "4\n"
     ]
    }
   ],
   "source": [
    "for i in range(0,6):\n",
    "    pass\n",
    "    print(i)\n",
    "    for i in range(1,5):\n",
    "        print(i)\n",
    "        continue"
   ]
  },
  {
   "cell_type": "code",
   "execution_count": 9,
   "id": "eb8891ad",
   "metadata": {},
   "outputs": [
    {
     "name": "stdout",
     "output_type": "stream",
     "text": [
      "10\n"
     ]
    }
   ],
   "source": [
    "for i in range(10,15):\n",
    "    print(i)\n",
    "    break\n",
    "    for i in range(0,10,2):\n",
    "        print(i)\n",
    "        pass"
   ]
  },
  {
   "cell_type": "code",
   "execution_count": 10,
   "id": "fd7343c8",
   "metadata": {},
   "outputs": [
    {
     "name": "stdout",
     "output_type": "stream",
     "text": [
      "10\n",
      "0\n",
      "11\n",
      "0\n",
      "12\n",
      "0\n",
      "13\n",
      "0\n",
      "14\n",
      "0\n"
     ]
    }
   ],
   "source": [
    "for i in range(10,15):\n",
    "    print(i)\n",
    "    pass\n",
    "    for i in range(0,10,2):\n",
    "        print(i)\n",
    "        break"
   ]
  },
  {
   "cell_type": "code",
   "execution_count": 17,
   "id": "5f6c04c7",
   "metadata": {},
   "outputs": [],
   "source": [
    "count = 0\n",
    "while  i<10:\n",
    "    print(i)\n",
    "    i = i + 2"
   ]
  },
  {
   "cell_type": "code",
   "execution_count": 22,
   "id": "af447bb0",
   "metadata": {},
   "outputs": [
    {
     "name": "stdout",
     "output_type": "stream",
     "text": [
      "The Addition of two Numbers 100 and 300 is 400\n"
     ]
    }
   ],
   "source": [
    "# Function Defination\n",
    "\n",
    "# Function Defination: sum()\n",
    "def sum():\n",
    "\n",
    "    num1 = 100 # Local Variable : Attributes\n",
    "    num2 = 300 #Local Variables : Attributes\n",
    "    num3 = num1+num2\n",
    "    print(f'The Addition of two Numbers {num1} and {num2} is {num3}')\n",
    "\n",
    "#Function Calling\n",
    "sum()"
   ]
  },
  {
   "cell_type": "code",
   "execution_count": 23,
   "id": "56217dc7",
   "metadata": {},
   "outputs": [
    {
     "name": "stdout",
     "output_type": "stream",
     "text": [
      "The Addition of two Numbers 100 and 1000 is 1100\n"
     ]
    }
   ],
   "source": [
    "num4 = 1000 # Global Variable\n",
    "\n",
    "def sum():\n",
    "    global num4\n",
    "    num1 = 100 # Local Variable : Attributes\n",
    "    num2 = 300 #Local Variables : Attributes\n",
    "    num3 = num1+num4\n",
    "    print(f'The Addition of two Numbers {num1} and {num4} is {num3}')\n",
    "\n",
    "#Function Calling\n",
    "sum()"
   ]
  },
  {
   "cell_type": "code",
   "execution_count": 24,
   "id": "e7f2f6a6",
   "metadata": {},
   "outputs": [
    {
     "name": "stdout",
     "output_type": "stream",
     "text": [
      "30.0\n"
     ]
    }
   ],
   "source": [
    "# Define Global Variables num1 and num2\n",
    "num1 = float(input('Enter The First Number:'))\n",
    "num2 = float(input('Enter The Second Number:'))\n",
    "\n",
    "# Define sum function with arguments a & b\n",
    "def sum(a,b):\n",
    "    a+b\n",
    "    return(a+b)\n",
    "\n",
    "# Calling sum function and the returned value must be stored in variables 'ans'\n",
    "ans = sum(num1,num2)\n",
    "print(ans)\n"
   ]
  },
  {
   "cell_type": "code",
   "execution_count": null,
   "id": "fdef8ab7",
   "metadata": {},
   "outputs": [],
   "source": [
    "\n"
   ]
  },
  {
   "cell_type": "code",
   "execution_count": null,
   "id": "b6de5380",
   "metadata": {},
   "outputs": [],
   "source": [
    "num=float(input('Enter the first no'))\n"
   ]
  },
  {
   "cell_type": "code",
   "execution_count": 2,
   "id": "acca3991",
   "metadata": {},
   "outputs": [
    {
     "name": "stdout",
     "output_type": "stream",
     "text": [
      "120\n"
     ]
    }
   ],
   "source": [
    "# Recursive Function\n",
    "# 5! = 5*4*3*2*1 = 120 \n",
    "\n",
    "def factorial(n):\n",
    "    if n ==1:\n",
    "        return 1\n",
    "    else:\n",
    "        return n * factorial(n-1)\n",
    "print(factorial(5))"
   ]
  },
  {
   "cell_type": "code",
   "execution_count": 3,
   "id": "9967d8b4",
   "metadata": {},
   "outputs": [
    {
     "name": "stdout",
     "output_type": "stream",
     "text": [
      "8\n"
     ]
    }
   ],
   "source": [
    "# Fibonacci Series \n",
    "def fibonacci(n):\n",
    "    if n <=1:\n",
    "        return n\n",
    "    else:\n",
    "        return fibonacci(n-1) + fibonacci(n-2)\n",
    "print(fibonacci(6))\n",
    "    "
   ]
  },
  {
   "cell_type": "code",
   "execution_count": 26,
   "id": "9ecb3578",
   "metadata": {},
   "outputs": [
    {
     "name": "stdout",
     "output_type": "stream",
     "text": [
      "Withdraw amount is 9500.0\n"
     ]
    }
   ],
   "source": [
    "Balance = 10000\n",
    "\n",
    "def Show_Balance():\n",
    "    global Balance\n",
    "    print(f'Your current balance is {Balance}')\n",
    "    \n",
    "def Withdraw_amount():\n",
    "    global Balance\n",
    "    amount = float(input('Enter the amount to withdraw: '))\n",
    "    print(f'Withdraw amount is {Balance - amount}')\n",
    "    Balance -= amount\n",
    "    \n",
    "def Deposite_amount():\n",
    "    global Balance\n",
    "    amount = float(input('Enter the amount to deposite: '))\n",
    "    print(f'Amount after deposite is {Balance + amount}')\n",
    "    Balance += amount\n",
    "    \n",
    "def Bank():\n",
    "    global Balance\n",
    "    choice = input('Enter the choice: ')\n",
    "    if choice == '1':\n",
    "        Show_Balance()\n",
    "    elif choice == '2':\n",
    "        Withdraw_amount()\n",
    "    elif choice == '3': \n",
    "        Deposite_amount()\n",
    "\n",
    "Bank()"
   ]
  },
  {
   "cell_type": "code",
   "execution_count": null,
   "id": "535dcfa1",
   "metadata": {},
   "outputs": [],
   "source": []
  }
 ],
 "metadata": {
  "kernelspec": {
   "display_name": "base",
   "language": "python",
   "name": "python3"
  },
  "language_info": {
   "codemirror_mode": {
    "name": "ipython",
    "version": 3
   },
   "file_extension": ".py",
   "mimetype": "text/x-python",
   "name": "python",
   "nbconvert_exporter": "python",
   "pygments_lexer": "ipython3",
   "version": "3.12.7"
  }
 },
 "nbformat": 4,
 "nbformat_minor": 5
}
