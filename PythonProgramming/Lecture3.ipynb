{
 "cells": [
  {
   "cell_type": "code",
   "execution_count": null,
   "id": "3a57fa48",
   "metadata": {},
   "outputs": [
    {
     "name": "stdout",
     "output_type": "stream",
     "text": [
      "<class 'list'>\n",
      "[1]\n",
      "[1, 2]\n"
     ]
    }
   ],
   "source": [
    "# List : Data Structre of Python Programming\n",
    "# List is mutable\n",
    "''' \n",
    "If any function defined inside a class then such function is called 'Method'\n",
    "List: List is the collection of Datatypes of python which are arrenge in sequence mannner\n",
    "'''\n",
    "lst = []  #Blank List\n",
    "print(type(lst))\n",
    "lst.append(1) #Function :method\n",
    "print(lst)\n",
    "lst.append(2)\n",
    "print(lst)"
   ]
  },
  {
   "cell_type": "code",
   "execution_count": 11,
   "id": "8df6cc03",
   "metadata": {},
   "outputs": [],
   "source": [
    "lst.clear() # This function will clear all the datatypes mension inside a list"
   ]
  },
  {
   "cell_type": "code",
   "execution_count": 12,
   "id": "0fc91366",
   "metadata": {},
   "outputs": [
    {
     "data": {
      "text/plain": [
       "[10, 20]"
      ]
     },
     "execution_count": 12,
     "metadata": {},
     "output_type": "execute_result"
    }
   ],
   "source": [
    "lst.append(10)\n",
    "lst.append(20)\n",
    "lst"
   ]
  },
  {
   "cell_type": "code",
   "execution_count": 13,
   "id": "aa031568",
   "metadata": {},
   "outputs": [
    {
     "data": {
      "text/plain": [
       "[0, 10, 20]"
      ]
     },
     "execution_count": 13,
     "metadata": {},
     "output_type": "execute_result"
    }
   ],
   "source": [
    "lst.insert(0,0)\n",
    "lst"
   ]
  },
  {
   "cell_type": "code",
   "execution_count": 14,
   "id": "35ebfb4c",
   "metadata": {},
   "outputs": [
    {
     "data": {
      "text/plain": [
       "[0, 10, 20, 30]"
      ]
     },
     "execution_count": 14,
     "metadata": {},
     "output_type": "execute_result"
    }
   ],
   "source": [
    "lst.insert(3,30)\n",
    "lst"
   ]
  },
  {
   "cell_type": "code",
   "execution_count": 19,
   "id": "811e5a59",
   "metadata": {},
   "outputs": [
    {
     "data": {
      "text/plain": [
       "60"
      ]
     },
     "execution_count": 19,
     "metadata": {},
     "output_type": "execute_result"
    }
   ],
   "source": [
    "import numpy as np\n",
    "a = np.array(lst)\n",
    "a.sum()"
   ]
  },
  {
   "cell_type": "code",
   "execution_count": 20,
   "id": "33ac35eb",
   "metadata": {},
   "outputs": [
    {
     "data": {
      "text/plain": [
       "1"
      ]
     },
     "execution_count": 20,
     "metadata": {},
     "output_type": "execute_result"
    }
   ],
   "source": [
    "lst.count(20)"
   ]
  },
  {
   "cell_type": "code",
   "execution_count": 21,
   "id": "57a09cc5",
   "metadata": {},
   "outputs": [
    {
     "data": {
      "text/plain": [
       "1"
      ]
     },
     "execution_count": 21,
     "metadata": {},
     "output_type": "execute_result"
    }
   ],
   "source": [
    "lst.index(10)"
   ]
  },
  {
   "cell_type": "code",
   "execution_count": 26,
   "id": "cab6ec90",
   "metadata": {},
   "outputs": [
    {
     "data": {
      "text/plain": [
       "1"
      ]
     },
     "execution_count": 26,
     "metadata": {},
     "output_type": "execute_result"
    }
   ],
   "source": [
    "# Search Algorithm\n",
    "a = [0,10,10,10,20,30]\n",
    "a.index(10)"
   ]
  },
  {
   "cell_type": "code",
   "execution_count": 27,
   "id": "d1e36a3e",
   "metadata": {},
   "outputs": [
    {
     "name": "stdout",
     "output_type": "stream",
     "text": [
      "[10, 20, 30, 40, 60, 100]\n"
     ]
    }
   ],
   "source": [
    "# Sorting Algorithm\n",
    "m = [100,20,10,30,40,60]\n",
    "m.sort()\n",
    "print(m)"
   ]
  },
  {
   "cell_type": "code",
   "execution_count": 29,
   "id": "e7ba8d91",
   "metadata": {},
   "outputs": [
    {
     "data": {
      "text/plain": [
       "[10, 20, 30, 40, 60, 100]"
      ]
     },
     "execution_count": 29,
     "metadata": {},
     "output_type": "execute_result"
    }
   ],
   "source": [
    "n=m.copy()\n",
    "n"
   ]
  },
  {
   "cell_type": "code",
   "execution_count": 28,
   "id": "2084c229",
   "metadata": {},
   "outputs": [
    {
     "name": "stdout",
     "output_type": "stream",
     "text": [
      "<class 'list'>\n"
     ]
    }
   ],
   "source": [
    "print(type(m))"
   ]
  },
  {
   "cell_type": "code",
   "execution_count": 30,
   "id": "df82f72f",
   "metadata": {},
   "outputs": [
    {
     "data": {
      "text/plain": [
       "[10, 20, 30, 40, 60, 100, 20, 30, 40, 50]"
      ]
     },
     "execution_count": 30,
     "metadata": {},
     "output_type": "execute_result"
    }
   ],
   "source": [
    "n.extend([20,30,40,50])\n",
    "n"
   ]
  },
  {
   "cell_type": "code",
   "execution_count": null,
   "id": "d0aa11f3",
   "metadata": {},
   "outputs": [
    {
     "data": {
      "text/plain": [
       "100"
      ]
     },
     "execution_count": 31,
     "metadata": {},
     "output_type": "execute_result"
    }
   ],
   "source": [
    "# pop() will remove the last value present inside a list\n",
    "m.pop()"
   ]
  },
  {
   "cell_type": "code",
   "execution_count": 32,
   "id": "a60bbcff",
   "metadata": {},
   "outputs": [
    {
     "name": "stdout",
     "output_type": "stream",
     "text": [
      "[10, 20, 30, 40, 60]\n"
     ]
    }
   ],
   "source": [
    "print(m)"
   ]
  },
  {
   "cell_type": "code",
   "execution_count": null,
   "id": "4d3cd6b0",
   "metadata": {},
   "outputs": [
    {
     "name": "stdout",
     "output_type": "stream",
     "text": [
      "[0, 10, 10, 20, 30]\n"
     ]
    }
   ],
   "source": [
    "# remove() Uses search algorithm\n",
    "a = [0,10,10,10,20,30]\n",
    "a.remove(10)\n",
    "print(a)"
   ]
  },
  {
   "cell_type": "code",
   "execution_count": 37,
   "id": "49fcf102",
   "metadata": {},
   "outputs": [
    {
     "data": {
      "text/plain": [
       "40"
      ]
     },
     "execution_count": 37,
     "metadata": {},
     "output_type": "execute_result"
    }
   ],
   "source": [
    "# Concept of Indexing and Slicing\n",
    "\n",
    "array = [10,20,30,40,50,60]\n",
    "array[3]"
   ]
  },
  {
   "cell_type": "code",
   "execution_count": 38,
   "id": "83c1396e",
   "metadata": {},
   "outputs": [
    {
     "name": "stdout",
     "output_type": "stream",
     "text": [
      "200\n"
     ]
    }
   ],
   "source": [
    "lst = [10,20,30,[100,200,300]]\n",
    "print(lst[3][1])"
   ]
  },
  {
   "cell_type": "code",
   "execution_count": null,
   "id": "d14e40e7",
   "metadata": {},
   "outputs": [],
   "source": [
    "lst = [10,20,30,[100,200,300]]\n",
    "print(lst)"
   ]
  },
  {
   "cell_type": "code",
   "execution_count": 39,
   "id": "2e4bf12c",
   "metadata": {},
   "outputs": [],
   "source": [
    "lst = [1,2,[3,[4,[5,6,7,[8],9],10],11],12]\n"
   ]
  },
  {
   "cell_type": "code",
   "execution_count": 40,
   "id": "dcfb8536",
   "metadata": {},
   "outputs": [
    {
     "name": "stdout",
     "output_type": "stream",
     "text": [
      "8\n"
     ]
    }
   ],
   "source": [
    "print(lst[2][1][1][3][0])"
   ]
  },
  {
   "cell_type": "code",
   "execution_count": 2,
   "id": "ca6d0f8c",
   "metadata": {},
   "outputs": [],
   "source": [
    "d = [10,20,30,[40,[50,[600,700,800,[900],1,2],3],4],5]\n"
   ]
  },
  {
   "cell_type": "code",
   "execution_count": 3,
   "id": "ccc94ae9",
   "metadata": {},
   "outputs": [
    {
     "name": "stdout",
     "output_type": "stream",
     "text": [
      "900\n"
     ]
    }
   ],
   "source": [
    "# Answer 900\n",
    "print(d[3][1][1][3][0])"
   ]
  },
  {
   "cell_type": "code",
   "execution_count": 8,
   "id": "b4e5a69b",
   "metadata": {},
   "outputs": [
    {
     "name": "stdout",
     "output_type": "stream",
     "text": [
      "(6, 7, 8, 9)\n"
     ]
    }
   ],
   "source": [
    "# Answer :(6,7,8,9)\n",
    "e = [10,20,30,[40,50,60,(1,2,(3,4,(5,6,7,8,9,10),11),12),13],14]\n",
    "print(e[3][3][2][2][1:5])"
   ]
  },
  {
   "cell_type": "code",
   "execution_count": null,
   "id": "86874f29",
   "metadata": {},
   "outputs": [
    {
     "name": "stdout",
     "output_type": "stream",
     "text": [
      "[600, 500, 400, 300, 200, 100]\n"
     ]
    }
   ],
   "source": [
    "# Reversing a list\n",
    "a = [100,200,300,400,500,600]\n",
    "a.reverse()\n",
    "print(a)"
   ]
  },
  {
   "cell_type": "code",
   "execution_count": 10,
   "id": "12079467",
   "metadata": {},
   "outputs": [
    {
     "name": "stdout",
     "output_type": "stream",
     "text": [
      "[3000, 800, 600, 500, 300, 100]\n"
     ]
    }
   ],
   "source": [
    "# Reversing a list : Alternative method\n",
    "#[start:stop:step]\n",
    "\n",
    "a = [100,300,500,600,800,3000]\n",
    "print(a[::-1])"
   ]
  }
 ],
 "metadata": {
  "kernelspec": {
   "display_name": "base",
   "language": "python",
   "name": "python3"
  },
  "language_info": {
   "codemirror_mode": {
    "name": "ipython",
    "version": 3
   },
   "file_extension": ".py",
   "mimetype": "text/x-python",
   "name": "python",
   "nbconvert_exporter": "python",
   "pygments_lexer": "ipython3",
   "version": "3.12.7"
  }
 },
 "nbformat": 4,
 "nbformat_minor": 5
}
