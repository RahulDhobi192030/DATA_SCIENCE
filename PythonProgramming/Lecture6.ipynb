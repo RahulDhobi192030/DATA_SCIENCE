{
 "cells": [
  {
   "cell_type": "code",
   "execution_count": 3,
   "id": "4957a6ab",
   "metadata": {},
   "outputs": [
    {
     "name": "stdout",
     "output_type": "stream",
     "text": [
      "100\n",
      "20\n"
     ]
    }
   ],
   "source": [
    "# Lambdas argument : expression\n",
    "\n",
    "squares = lambda x: x**2\n",
    "print(squares(10))\n",
    "\n",
    "add = lambda x,y : x+y\n",
    "print(add(10,10))"
   ]
  },
  {
   "cell_type": "code",
   "execution_count": null,
   "id": "344f096c",
   "metadata": {},
   "outputs": [],
   "source": [
    "num1 = float(input('Enter the first number:'))\n",
    "num2 = float (input('Enter the second number:'))\n",
    "\n",
    "add = lambda num1,num2:(num1+num2)\n",
    "sub = lambda num1,num2:(num1-num2)\n",
    "mul = lambda num1,num2:(num1*num2)\n",
    "div = lambda num1,num2:(num1/num2)\n",
    "\n",
    "# Function defintion\n",
    "\n",
    "def Calculate():\n",
    "    global num1,num2\n",
    "    choice = input('Enter the choice:')\n",
    "    \n",
    "    if choice == '1':\n",
    "        ans = add(num1,num2)\n",
    "        print(ans)\n",
    "    elif choice ==  '2':\n",
    "        ans = sub(num1,num2)\n",
    "        print(ans)\n",
    "    elif choice == '3':\n",
    "        ans = mul(num1,num2)\n",
    "        print(ans)\n",
    "    elif choice == '4':\n",
    "        ans = div(num1,num2)\n",
    "        print(ans)\n",
    "    else:\n",
    "        print('Enter the valid input choice')\n",
    "        \n",
    "    # Function calling\n",
    "    \n",
    "Calculate()"
   ]
  },
  {
   "cell_type": "code",
   "execution_count": 4,
   "id": "2641a5e2",
   "metadata": {},
   "outputs": [
    {
     "data": {
      "text/plain": [
       "(0, 4, 16, 36, 64)"
      ]
     },
     "execution_count": 4,
     "metadata": {},
     "output_type": "execute_result"
    }
   ],
   "source": [
    "squares = list(map(lambda x: x**2,range(0,10)))\n",
    "squares\n",
    "\n",
    "#range(start,stop,step)\n",
    "squares = tuple(map(lambda x: x**2,range(0,10,2)))\n",
    "squares"
   ]
  },
  {
   "cell_type": "code",
   "execution_count": 1,
   "id": "c85a3de3",
   "metadata": {},
   "outputs": [
    {
     "name": "stdout",
     "output_type": "stream",
     "text": [
      "[2, 4, 6]\n",
      "[0, 2, 4, 6, 8]\n"
     ]
    }
   ],
   "source": [
    "# filter(function,iterable)\n",
    "\n",
    "num = [1,2,3,4,5,6]\n",
    "even = list (filter(lambda x: x%2 ==0,num))\n",
    "print(even)\n",
    "\n",
    "a = list(filter(lambda x: x%2 == 0, range(0,10)))\n",
    "print(a)"
   ]
  },
  {
   "cell_type": "code",
   "execution_count": 21,
   "id": "4a9b90f7",
   "metadata": {},
   "outputs": [
    {
     "name": "stdout",
     "output_type": "stream",
     "text": [
      "[0, 1, 2, 3, 4, 5, 6, 7, 8, 9, 10]\n",
      "20\n"
     ]
    }
   ],
   "source": [
    "''' \n",
    "Step 1: Create a list using a lamdas function as 1,2,3,4,5,6,7,8,9,10\n",
    "Step 2: Evaluate sum of all even numbers present in list\n",
    "Step 3: The above code must be written as function : sum()\n",
    "'''\n",
    "a = list(filter(lambda x: x+1, range(0,11)))\n",
    "print(a)\n",
    "\n",
    "# define function\n",
    "def sum():\n",
    "    sum = 0\n",
    "    \n",
    "    for i in range(0,10):\n",
    "        if i % 2 == 0:\n",
    "            sum = sum + i\n",
    "            \n",
    "            \n",
    "    print(sum)\n",
    "# Function calling\n",
    "sum()\n"
   ]
  },
  {
   "cell_type": "code",
   "execution_count": 1,
   "id": "f082cd0d",
   "metadata": {},
   "outputs": [
    {
     "name": "stdout",
     "output_type": "stream",
     "text": [
      "[0, 1, 4, 9, 16, 25, 36, 49, 64, 81]\n"
     ]
    }
   ],
   "source": [
    "lst = []\n",
    "\n",
    "for i in range(10):\n",
    "    lst.append(i**2)\n",
    "    \n",
    "print(lst)"
   ]
  },
  {
   "cell_type": "code",
   "execution_count": 2,
   "id": "d44d8ea5",
   "metadata": {},
   "outputs": [
    {
     "name": "stdout",
     "output_type": "stream",
     "text": [
      "[0, 1, 4, 9, 16, 25, 36, 49, 64, 81]\n"
     ]
    }
   ],
   "source": [
    "lst = [i**2 for i in range(10)]\n",
    "\n",
    "print(lst)"
   ]
  },
  {
   "cell_type": "code",
   "execution_count": null,
   "id": "9dc29990",
   "metadata": {},
   "outputs": [
    {
     "data": {
      "text/plain": [
       "30"
      ]
     },
     "execution_count": 5,
     "metadata": {},
     "output_type": "execute_result"
    }
   ],
   "source": [
    "lst = [1,2,3,4,5,6,7,8,9,10]\n",
    "\n",
    "sum([i for i in lst if i%2 == 0])"
   ]
  },
  {
   "cell_type": "code",
   "execution_count": 7,
   "id": "1dee9e26",
   "metadata": {},
   "outputs": [
    {
     "name": "stdout",
     "output_type": "stream",
     "text": [
      "[[1, 2, 3, 4]]\n"
     ]
    }
   ],
   "source": [
    "a = [[1,2,3,4]]\n",
    "print(a)"
   ]
  },
  {
   "cell_type": "code",
   "execution_count": 29,
   "id": "38ab0a8d",
   "metadata": {},
   "outputs": [
    {
     "name": "stdout",
     "output_type": "stream",
     "text": [
      "3000\n",
      "2000000\n",
      "None\n",
      "None\n"
     ]
    }
   ],
   "source": [
    "# class Definition: ClassName\n",
    "class ClassName:\n",
    "    # Define Method: Constructor : Special Function\n",
    "    def __init__(self):\n",
    "        # Variables: Attributes\n",
    "        self.num1 = 1000\n",
    "        self.num2 = 2000\n",
    "\n",
    "    # Define Method: Sum()\n",
    "    def Sum(self):\n",
    "        print(self.num1 + self.num2)\n",
    "\n",
    "    def Mul(self):\n",
    "        print(self.num1 * self.num2)\n",
    "\n",
    "# Create a Object : A\n",
    "A = ClassName()\n",
    "\n",
    "# Calling Function: Sum() using Dot Operator\n",
    "ans = A.Sum()\n",
    "ans1 = A.Mul()\n",
    "# Printing the output\n",
    "print(ans)\n",
    "print(ans1)"
   ]
  },
  {
   "cell_type": "code",
   "execution_count": null,
   "id": "02c3cddd",
   "metadata": {},
   "outputs": [],
   "source": []
  }
 ],
 "metadata": {
  "kernelspec": {
   "display_name": "base",
   "language": "python",
   "name": "python3"
  },
  "language_info": {
   "codemirror_mode": {
    "name": "ipython",
    "version": 3
   },
   "file_extension": ".py",
   "mimetype": "text/x-python",
   "name": "python",
   "nbconvert_exporter": "python",
   "pygments_lexer": "ipython3",
   "version": "3.12.7"
  }
 },
 "nbformat": 4,
 "nbformat_minor": 5
}
