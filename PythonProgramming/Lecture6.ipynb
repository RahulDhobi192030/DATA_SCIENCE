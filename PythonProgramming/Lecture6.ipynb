{
 "cells": [
  {
   "cell_type": "code",
   "execution_count": null,
   "id": "4957a6ab",
   "metadata": {},
   "outputs": [],
   "source": [
    "# Lambdas argument : expression\n",
    "\n",
    "squares = lambda x: x**2\n",
    "print(squares(10))\n",
    "\n",
    "add = lambda x,y : x+y\n",
    "print(add(10,10))"
   ]
  },
  {
   "cell_type": "code",
   "execution_count": null,
   "id": "344f096c",
   "metadata": {},
   "outputs": [],
   "source": [
    "num1 = float(input('Enter the first number:'))\n",
    "num2 = float (input('Enter the second number:'))\n",
    "\n",
    "add = lambda num1,num2:(num1+num2)\n",
    "sub = lambda num1,num2:(num1-num2)\n",
    "mul = lambda num1,num2:(num1*num2)\n",
    "div = lambda num1,num2:(num1/num2)\n",
    "\n",
    "# Function defintion\n",
    "\n",
    "def Calculate():\n",
    "    global num1,num2\n",
    "    choice = input('Enter the choice:')\n",
    "    \n",
    "    if choice == '1':\n",
    "        ans = add(num1,num2)\n",
    "        print(ans)\n",
    "    elif choice ==  '2':\n",
    "        ans = sub(num1,num2)\n",
    "        print(ans)\n",
    "    elif choice == '3':\n",
    "        ans = mul(num1,num2)\n",
    "        print(ans)\n",
    "    elif choice == '4':\n",
    "        ans = div(num1,num2)\n",
    "        print(ans)\n",
    "    else:\n",
    "        print('Enter the valid input choice')\n",
    "        \n",
    "    # Function calling\n",
    "    \n",
    "Calculate()"
   ]
  },
  {
   "cell_type": "code",
   "execution_count": null,
   "id": "2641a5e2",
   "metadata": {},
   "outputs": [],
   "source": [
    "squares = list(map(lambda x: x**2,range(0,10)))\n",
    "squares\n",
    "\n",
    "#range(start,stop,step)\n",
    "squares = list(map(lambda x: x**2,range(0,10,2)))\n",
    "squares"
   ]
  },
  {
   "cell_type": "code",
   "execution_count": null,
   "id": "c85a3de3",
   "metadata": {},
   "outputs": [],
   "source": [
    "# filter(function,iterable)\n",
    "\n",
    "num = [1,2,3,4,5,6]\n",
    "even = list (filter(lambda x: x%2 ==0,num))\n",
    "print(even)\n",
    "\n",
    "a = list(filter(lambda x: x%2 == 0, range(0,10)))\n",
    "print(a)"
   ]
  }
 ],
 "metadata": {
  "kernelspec": {
   "display_name": "base",
   "language": "python",
   "name": "python3"
  },
  "language_info": {
   "name": "python",
   "version": "3.12.7"
  }
 },
 "nbformat": 4,
 "nbformat_minor": 5
}
