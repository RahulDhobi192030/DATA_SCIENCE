{
 "cells": [
  {
   "cell_type": "code",
   "execution_count": 3,
   "id": "4957a6ab",
   "metadata": {},
   "outputs": [
    {
     "name": "stdout",
     "output_type": "stream",
     "text": [
      "100\n",
      "20\n"
     ]
    }
   ],
   "source": [
    "# Lambdas argument : expression\n",
    "\n",
    "squares = lambda x: x**2\n",
    "print(squares(10))\n",
    "\n",
    "add = lambda x,y : x+y\n",
    "print(add(10,10))"
   ]
  },
  {
   "cell_type": "code",
   "execution_count": null,
   "id": "344f096c",
   "metadata": {},
   "outputs": [],
   "source": [
    "num1 = float(input('Enter the first number:'))\n",
    "num2 = float (input('Enter the second number:'))\n",
    "\n",
    "add = lambda num1,num2:(num1+num2)\n",
    "sub = lambda num1,num2:(num1-num2)\n",
    "mul = lambda num1,num2:(num1*num2)\n",
    "div = lambda num1,num2:(num1/num2)\n",
    "\n",
    "# Function defintion\n",
    "\n",
    "def Calculate():\n",
    "    global num1,num2\n",
    "    choice = input('Enter the choice:')\n",
    "    \n",
    "    if choice == '1':\n",
    "        ans = add(num1,num2)\n",
    "        print(ans)\n",
    "    elif choice ==  '2':\n",
    "        ans = sub(num1,num2)\n",
    "        print(ans)\n",
    "    elif choice == '3':\n",
    "        ans = mul(num1,num2)\n",
    "        print(ans)\n",
    "    elif choice == '4':\n",
    "        ans = div(num1,num2)\n",
    "        print(ans)\n",
    "    else:\n",
    "        print('Enter the valid input choice')\n",
    "        \n",
    "    # Function calling\n",
    "    \n",
    "Calculate()"
   ]
  },
  {
   "cell_type": "code",
   "execution_count": 4,
   "id": "2641a5e2",
   "metadata": {},
   "outputs": [
    {
     "data": {
      "text/plain": [
       "(0, 4, 16, 36, 64)"
      ]
     },
     "execution_count": 4,
     "metadata": {},
     "output_type": "execute_result"
    }
   ],
   "source": [
    "squares = list(map(lambda x: x**2,range(0,10)))\n",
    "squares\n",
    "\n",
    "#range(start,stop,step)\n",
    "squares = tuple(map(lambda x: x**2,range(0,10,2)))\n",
    "squares"
   ]
  },
  {
   "cell_type": "code",
   "execution_count": 1,
   "id": "c85a3de3",
   "metadata": {},
   "outputs": [
    {
     "name": "stdout",
     "output_type": "stream",
     "text": [
      "[2, 4, 6]\n",
      "[0, 2, 4, 6, 8]\n"
     ]
    }
   ],
   "source": [
    "# filter(function,iterable)\n",
    "\n",
    "num = [1,2,3,4,5,6]\n",
    "even = list (filter(lambda x: x%2 ==0,num))\n",
    "print(even)\n",
    "\n",
    "a = list(filter(lambda x: x%2 == 0, range(0,10)))\n",
    "print(a)"
   ]
  },
  {
   "cell_type": "code",
   "execution_count": 21,
   "id": "4a9b90f7",
   "metadata": {},
   "outputs": [
    {
     "name": "stdout",
     "output_type": "stream",
     "text": [
      "[0, 1, 2, 3, 4, 5, 6, 7, 8, 9, 10]\n",
      "20\n"
     ]
    }
   ],
   "source": [
    "''' \n",
    "Step 1: Create a list using a lamdas function as 1,2,3,4,5,6,7,8,9,10\n",
    "Step 2: Evaluate sum of all even numbers present in list\n",
    "Step 3: The above code must be written as function : sum()\n",
    "'''\n",
    "a = list(filter(lambda x: x+1, range(0,11)))\n",
    "print(a)\n",
    "\n",
    "# define function\n",
    "def sum():\n",
    "    sum = 0\n",
    "    \n",
    "    for i in range(0,10):\n",
    "        if i % 2 == 0:\n",
    "            sum = sum + i\n",
    "            \n",
    "            \n",
    "    print(sum)\n",
    "# Function calling\n",
    "sum()\n"
   ]
  },
  {
   "cell_type": "code",
   "execution_count": 1,
   "id": "f082cd0d",
   "metadata": {},
   "outputs": [
    {
     "name": "stdout",
     "output_type": "stream",
     "text": [
      "[0, 1, 4, 9, 16, 25, 36, 49, 64, 81]\n"
     ]
    }
   ],
   "source": [
    "lst = []\n",
    "\n",
    "for i in range(10):\n",
    "    lst.append(i**2)\n",
    "    \n",
    "print(lst)"
   ]
  },
  {
   "cell_type": "code",
   "execution_count": 2,
   "id": "d44d8ea5",
   "metadata": {},
   "outputs": [
    {
     "name": "stdout",
     "output_type": "stream",
     "text": [
      "[0, 1, 4, 9, 16, 25, 36, 49, 64, 81]\n"
     ]
    }
   ],
   "source": [
    "lst = [i**2 for i in range(10)]\n",
    "\n",
    "print(lst)"
   ]
  },
  {
   "cell_type": "code",
   "execution_count": null,
   "id": "9dc29990",
   "metadata": {},
   "outputs": [
    {
     "data": {
      "text/plain": [
       "30"
      ]
     },
     "execution_count": 5,
     "metadata": {},
     "output_type": "execute_result"
    }
   ],
   "source": [
    "lst = [1,2,3,4,5,6,7,8,9,10]\n",
    "\n",
    "sum([i for i in lst if i%2 == 0])"
   ]
  },
  {
   "cell_type": "code",
   "execution_count": 7,
   "id": "1dee9e26",
   "metadata": {},
   "outputs": [
    {
     "name": "stdout",
     "output_type": "stream",
     "text": [
      "[[1, 2, 3, 4]]\n"
     ]
    }
   ],
   "source": [
    "a = [[1,2,3,4]]\n",
    "print(a)"
   ]
  },
  {
   "cell_type": "code",
   "execution_count": 29,
   "id": "38ab0a8d",
   "metadata": {},
   "outputs": [
    {
     "name": "stdout",
     "output_type": "stream",
     "text": [
      "3000\n",
      "2000000\n",
      "None\n",
      "None\n"
     ]
    }
   ],
   "source": [
    "# class Definition: ClassName\n",
    "class ClassName:\n",
    "    # Define Method: Constructor : Special Function\n",
    "    def __init__(self):\n",
    "        # Variables: Attributes\n",
    "        self.num1 = 1000\n",
    "        self.num2 = 2000\n",
    "\n",
    "    # Define Method: Sum()\n",
    "    def Sum(self):\n",
    "        print(self.num1 + self.num2)\n",
    "\n",
    "    def Mul(self):\n",
    "        print(self.num1 * self.num2)\n",
    "\n",
    "# Create a Object : A\n",
    "A = ClassName()\n",
    "\n",
    "# Calling Function: Sum() using Dot Operator\n",
    "ans = A.Sum()\n",
    "ans1 = A.Mul()\n",
    "# Printing the output\n",
    "print(ans)\n",
    "print(ans1)"
   ]
  },
  {
   "cell_type": "code",
   "execution_count": 3,
   "id": "02c3cddd",
   "metadata": {},
   "outputs": [
    {
     "name": "stdout",
     "output_type": "stream",
     "text": [
      "blue\n",
      "booo\n",
      "huskey\n"
     ]
    }
   ],
   "source": [
    "class Dog:\n",
    "    kind = 'Good Boy'\n",
    "    def __init__(self):\n",
    "        self.eye = input('Enter the Eyes Colour:')\n",
    "        self.breed = input('Enter the Breed:')\n",
    "        self.sound = input('Enter the sound:')\n",
    "        \n",
    "    def sound(self):\n",
    "        print(self.sound)\n",
    "        \n",
    "a = Dog()\n",
    "print(a.eye)\n",
    "print(a.sound)\n",
    "print(a.breed)"
   ]
  },
  {
   "cell_type": "code",
   "execution_count": 5,
   "id": "c0fba1b0",
   "metadata": {},
   "outputs": [
    {
     "name": "stdout",
     "output_type": "stream",
     "text": [
      "name\n",
      "marks\n"
     ]
    }
   ],
   "source": [
    "class parent:\n",
    "    def __init__(self):\n",
    "        self.name = 'name'\n",
    "        self.age = 'age'\n",
    "class Child(parent):\n",
    "    def __init__(self):\n",
    "        self.marks = 'marks'\n",
    "a = parent()\n",
    "b = Child()\n",
    "print(a.name)\n",
    "print(b.marks)\n",
    "        \n",
    "        "
   ]
  },
  {
   "cell_type": "code",
   "execution_count": 6,
   "id": "e94b4b5b",
   "metadata": {},
   "outputs": [
    {
     "name": "stdout",
     "output_type": "stream",
     "text": [
      "Hiii\n",
      "petrol\n",
      "bye\n"
     ]
    }
   ],
   "source": [
    "# Inheritance : OOP\n",
    "\n",
    "class Car:\n",
    "    def __init__(self):\n",
    "        print('Hiii')\n",
    "    def Engine(self):\n",
    "        self.Engine = input('Enter the engine type:')\n",
    "        print(self.Engine)\n",
    "        \n",
    "# Define Child class\n",
    "\n",
    "class PetrolCar(Car):\n",
    "    def __init__(self):\n",
    "        print('bye')\n",
    "\n",
    "a = Car()\n",
    "a.Engine()\n",
    "b = PetrolCar()"
   ]
  },
  {
   "cell_type": "code",
   "execution_count": 2,
   "id": "10fd93ce",
   "metadata": {},
   "outputs": [
    {
     "name": "stdout",
     "output_type": "stream",
     "text": [
      "Ravi has 6000 in account.\n",
      "Saving Account Interest Rate: 6%\n"
     ]
    }
   ],
   "source": [
    "# Parent class\n",
    "\n",
    "class Account:\n",
    "    def __init__(self,name,balance):\n",
    "        self.name = name\n",
    "        self.balance = balance\n",
    "    def show_balance(self):\n",
    "        print(f\"{self.name} has {self.balance} in account.\")\n",
    "        \n",
    "# Child class\n",
    "\n",
    "class SavingAccount(Account):\n",
    "    def show_interest_rate(self):\n",
    "        print(\"Saving Account Interest Rate: 6%\")\n",
    "        \n",
    "# Inherited behaviour\n",
    "\n",
    "s = SavingAccount(\"Ravi\", 6000)\n",
    "s.show_balance()\n",
    "s.show_interest_rate()"
   ]
  },
  {
   "cell_type": "code",
   "execution_count": 12,
   "id": "fa9d626b",
   "metadata": {},
   "outputs": [
    {
     "name": "stdout",
     "output_type": "stream",
     "text": [
      "My name is Rahul\n",
      "Occupation is Worker\n",
      "My habit is Sleeping\n",
      "Hi, I am your grandparent.\n"
     ]
    }
   ],
   "source": [
    "class Grandparent:\n",
    "    def __init__(self):\n",
    "        self.habit = \"Sleeping\"\n",
    "    \n",
    "    def behaviour(self):\n",
    "        print(\"Hi, I am your grandparent.\")\n",
    "\n",
    "class Parent(Grandparent):\n",
    "    def __init__(self):\n",
    "        super().__init__()  # Initialize Grandparent's attributes\n",
    "\n",
    "    def show_occupation(self):\n",
    "        print(\"Occupation is Worker\")\n",
    "    \n",
    "    def show_habit(self):\n",
    "        print(f\"My habit is {self.habit}\")\n",
    "\n",
    "class Child(Parent):\n",
    "    def __init__(self):\n",
    "        super().__init__()  # Initialize Parent (and Grandparent)\n",
    "        self.name = \"Rahul\"\n",
    "\n",
    "    def show_name(self):\n",
    "        print(f\"My name is {self.name}\")\n",
    "\n",
    "    def introduce(self):\n",
    "        self.show_name()\n",
    "        self.show_occupation()\n",
    "        self.show_habit()\n",
    "        self.behaviour()\n",
    "\n",
    "c = Child()\n",
    "c.introduce()\n"
   ]
  },
  {
   "cell_type": "code",
   "execution_count": null,
   "id": "de9576aa",
   "metadata": {},
   "outputs": [],
   "source": []
  }
 ],
 "metadata": {
  "kernelspec": {
   "display_name": "base",
   "language": "python",
   "name": "python3"
  },
  "language_info": {
   "codemirror_mode": {
    "name": "ipython",
    "version": 3
   },
   "file_extension": ".py",
   "mimetype": "text/x-python",
   "name": "python",
   "nbconvert_exporter": "python",
   "pygments_lexer": "ipython3",
   "version": "3.12.7"
  }
 },
 "nbformat": 4,
 "nbformat_minor": 5
}
