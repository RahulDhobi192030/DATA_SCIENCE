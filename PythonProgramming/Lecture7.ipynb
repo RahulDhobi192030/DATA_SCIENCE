{
 "cells": [
  {
   "cell_type": "code",
   "execution_count": null,
   "id": "c3621bb9",
   "metadata": {},
   "outputs": [],
   "source": [
    "# Web Scraping"
   ]
  },
  {
   "cell_type": "code",
   "execution_count": 11,
   "id": "0e1ed911",
   "metadata": {},
   "outputs": [
    {
     "data": {
      "text/plain": [
       "' \\nfile = open(\"demo.txt\", \"r\")\\nprint(file)\\nwith open(\"demo.txt\", \"r\")as file:\\n    content = file.read()\\n    print(content)\\n'"
      ]
     },
     "execution_count": 11,
     "metadata": {},
     "output_type": "execute_result"
    }
   ],
   "source": [
    "''' \n",
    "file = open(\"demo.txt\", \"r\")\n",
    "print(file)\n",
    "with open(\"demo.txt\", \"r\")as file:\n",
    "    content = file.read()\n",
    "    print(content)\n",
    "'''"
   ]
  },
  {
   "cell_type": "code",
   "execution_count": null,
   "id": "f53233a2",
   "metadata": {},
   "outputs": [],
   "source": [
    "''' \n",
    "\n",
    "import pickel\n",
    "\n",
    "def save_model(model, path):\n",
    "\n",
    "    with open(path, 'wb')as f:\n",
    "        pickel.dump(model, f)\n",
    "        \n",
    "def load_model(path):\n",
    "    with open(path, 'rb')\n",
    "     return pickel.load(f)\n",
    "     \n",
    "'''\n",
    "\n",
    "''' \n",
    "import logging\n",
    "logging.basicConfig(level = logging.INFO,\n",
    "                            filename = 'FILEHANDLING.log',\n",
    "                            filemode = 'w',\n",
    "                            format = '%(asctime)s - %(levelname)s -%(message)s',\n",
    "                            force = True)\n",
    "                            \n",
    "                            \n",
    "logging.info('Hii I wnated to log the data')\n",
    "logging.info('Hiii')\n",
    "logging.debug('hii')\n",
    "'''"
   ]
  },
  {
   "cell_type": "code",
   "execution_count": 3,
   "id": "00a74789",
   "metadata": {},
   "outputs": [
    {
     "name": "stdout",
     "output_type": "stream",
     "text": [
      "(None, 'Alice', 30)\n",
      "(3, 'hiii', 56)\n"
     ]
    }
   ],
   "source": [
    "import sqlite3\n",
    "\n",
    "# create database : mydb\n",
    "connection = sqlite3.connect('mydb.db')\n",
    "cursor = connection.cursor()\n",
    "cursor.execute(''' create table user1(id,name,age)''')\n",
    "cursor.execute(\"INSERT INTO user1(name,age) VALUES (?,?)\",(\"Alice\",30))\n",
    "connection.commit()\n",
    "cursor.execute(\"\"\" insert into user1 values (3,'hiii',56)\"\"\")\n",
    "cursor.execute('select * from user1')\n",
    "rows = cursor.fetchall()\n",
    "for row in rows:\n",
    "    print(row)"
   ]
  },
  {
   "cell_type": "code",
   "execution_count": null,
   "id": "051dbb42",
   "metadata": {},
   "outputs": [],
   "source": []
  }
 ],
 "metadata": {
  "kernelspec": {
   "display_name": "base",
   "language": "python",
   "name": "python3"
  },
  "language_info": {
   "codemirror_mode": {
    "name": "ipython",
    "version": 3
   },
   "file_extension": ".py",
   "mimetype": "text/x-python",
   "name": "python",
   "nbconvert_exporter": "python",
   "pygments_lexer": "ipython3",
   "version": "3.12.7"
  }
 },
 "nbformat": 4,
 "nbformat_minor": 5
}
